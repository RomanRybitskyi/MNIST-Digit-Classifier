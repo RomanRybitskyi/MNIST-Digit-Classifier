{
 "cells": [
  {
   "cell_type": "code",
   "id": "initial_id",
   "metadata": {
    "collapsed": true,
    "ExecuteTime": {
     "end_time": "2025-03-25T13:28:49.135005Z",
     "start_time": "2025-03-25T13:28:49.132889Z"
    }
   },
   "source": [
    "    import numpy as np\n",
    "    import pandas as pd\n",
    "    import matplotlib.pyplot as plt"
   ],
   "outputs": [],
   "execution_count": 101
  },
  {
   "metadata": {
    "ExecuteTime": {
     "end_time": "2025-03-25T13:28:50.146862Z",
     "start_time": "2025-03-25T13:28:49.145348Z"
    }
   },
   "cell_type": "code",
   "source": "data = pd.read_csv('train.csv')",
   "id": "7864e8bbc891e437",
   "outputs": [],
   "execution_count": 102
  },
  {
   "metadata": {
    "ExecuteTime": {
     "end_time": "2025-03-25T13:28:50.172016Z",
     "start_time": "2025-03-25T13:28:50.161268Z"
    }
   },
   "cell_type": "code",
   "source": "data.head()",
   "id": "ae16306b79481946",
   "outputs": [
    {
     "data": {
      "text/plain": [
       "   label  pixel0  pixel1  pixel2  pixel3  pixel4  pixel5  pixel6  pixel7  \\\n",
       "0      1       0       0       0       0       0       0       0       0   \n",
       "1      0       0       0       0       0       0       0       0       0   \n",
       "2      1       0       0       0       0       0       0       0       0   \n",
       "3      4       0       0       0       0       0       0       0       0   \n",
       "4      0       0       0       0       0       0       0       0       0   \n",
       "\n",
       "   pixel8  ...  pixel774  pixel775  pixel776  pixel777  pixel778  pixel779  \\\n",
       "0       0  ...         0         0         0         0         0         0   \n",
       "1       0  ...         0         0         0         0         0         0   \n",
       "2       0  ...         0         0         0         0         0         0   \n",
       "3       0  ...         0         0         0         0         0         0   \n",
       "4       0  ...         0         0         0         0         0         0   \n",
       "\n",
       "   pixel780  pixel781  pixel782  pixel783  \n",
       "0         0         0         0         0  \n",
       "1         0         0         0         0  \n",
       "2         0         0         0         0  \n",
       "3         0         0         0         0  \n",
       "4         0         0         0         0  \n",
       "\n",
       "[5 rows x 785 columns]"
      ],
      "text/html": [
       "<div>\n",
       "<style scoped>\n",
       "    .dataframe tbody tr th:only-of-type {\n",
       "        vertical-align: middle;\n",
       "    }\n",
       "\n",
       "    .dataframe tbody tr th {\n",
       "        vertical-align: top;\n",
       "    }\n",
       "\n",
       "    .dataframe thead th {\n",
       "        text-align: right;\n",
       "    }\n",
       "</style>\n",
       "<table border=\"1\" class=\"dataframe\">\n",
       "  <thead>\n",
       "    <tr style=\"text-align: right;\">\n",
       "      <th></th>\n",
       "      <th>label</th>\n",
       "      <th>pixel0</th>\n",
       "      <th>pixel1</th>\n",
       "      <th>pixel2</th>\n",
       "      <th>pixel3</th>\n",
       "      <th>pixel4</th>\n",
       "      <th>pixel5</th>\n",
       "      <th>pixel6</th>\n",
       "      <th>pixel7</th>\n",
       "      <th>pixel8</th>\n",
       "      <th>...</th>\n",
       "      <th>pixel774</th>\n",
       "      <th>pixel775</th>\n",
       "      <th>pixel776</th>\n",
       "      <th>pixel777</th>\n",
       "      <th>pixel778</th>\n",
       "      <th>pixel779</th>\n",
       "      <th>pixel780</th>\n",
       "      <th>pixel781</th>\n",
       "      <th>pixel782</th>\n",
       "      <th>pixel783</th>\n",
       "    </tr>\n",
       "  </thead>\n",
       "  <tbody>\n",
       "    <tr>\n",
       "      <th>0</th>\n",
       "      <td>1</td>\n",
       "      <td>0</td>\n",
       "      <td>0</td>\n",
       "      <td>0</td>\n",
       "      <td>0</td>\n",
       "      <td>0</td>\n",
       "      <td>0</td>\n",
       "      <td>0</td>\n",
       "      <td>0</td>\n",
       "      <td>0</td>\n",
       "      <td>...</td>\n",
       "      <td>0</td>\n",
       "      <td>0</td>\n",
       "      <td>0</td>\n",
       "      <td>0</td>\n",
       "      <td>0</td>\n",
       "      <td>0</td>\n",
       "      <td>0</td>\n",
       "      <td>0</td>\n",
       "      <td>0</td>\n",
       "      <td>0</td>\n",
       "    </tr>\n",
       "    <tr>\n",
       "      <th>1</th>\n",
       "      <td>0</td>\n",
       "      <td>0</td>\n",
       "      <td>0</td>\n",
       "      <td>0</td>\n",
       "      <td>0</td>\n",
       "      <td>0</td>\n",
       "      <td>0</td>\n",
       "      <td>0</td>\n",
       "      <td>0</td>\n",
       "      <td>0</td>\n",
       "      <td>...</td>\n",
       "      <td>0</td>\n",
       "      <td>0</td>\n",
       "      <td>0</td>\n",
       "      <td>0</td>\n",
       "      <td>0</td>\n",
       "      <td>0</td>\n",
       "      <td>0</td>\n",
       "      <td>0</td>\n",
       "      <td>0</td>\n",
       "      <td>0</td>\n",
       "    </tr>\n",
       "    <tr>\n",
       "      <th>2</th>\n",
       "      <td>1</td>\n",
       "      <td>0</td>\n",
       "      <td>0</td>\n",
       "      <td>0</td>\n",
       "      <td>0</td>\n",
       "      <td>0</td>\n",
       "      <td>0</td>\n",
       "      <td>0</td>\n",
       "      <td>0</td>\n",
       "      <td>0</td>\n",
       "      <td>...</td>\n",
       "      <td>0</td>\n",
       "      <td>0</td>\n",
       "      <td>0</td>\n",
       "      <td>0</td>\n",
       "      <td>0</td>\n",
       "      <td>0</td>\n",
       "      <td>0</td>\n",
       "      <td>0</td>\n",
       "      <td>0</td>\n",
       "      <td>0</td>\n",
       "    </tr>\n",
       "    <tr>\n",
       "      <th>3</th>\n",
       "      <td>4</td>\n",
       "      <td>0</td>\n",
       "      <td>0</td>\n",
       "      <td>0</td>\n",
       "      <td>0</td>\n",
       "      <td>0</td>\n",
       "      <td>0</td>\n",
       "      <td>0</td>\n",
       "      <td>0</td>\n",
       "      <td>0</td>\n",
       "      <td>...</td>\n",
       "      <td>0</td>\n",
       "      <td>0</td>\n",
       "      <td>0</td>\n",
       "      <td>0</td>\n",
       "      <td>0</td>\n",
       "      <td>0</td>\n",
       "      <td>0</td>\n",
       "      <td>0</td>\n",
       "      <td>0</td>\n",
       "      <td>0</td>\n",
       "    </tr>\n",
       "    <tr>\n",
       "      <th>4</th>\n",
       "      <td>0</td>\n",
       "      <td>0</td>\n",
       "      <td>0</td>\n",
       "      <td>0</td>\n",
       "      <td>0</td>\n",
       "      <td>0</td>\n",
       "      <td>0</td>\n",
       "      <td>0</td>\n",
       "      <td>0</td>\n",
       "      <td>0</td>\n",
       "      <td>...</td>\n",
       "      <td>0</td>\n",
       "      <td>0</td>\n",
       "      <td>0</td>\n",
       "      <td>0</td>\n",
       "      <td>0</td>\n",
       "      <td>0</td>\n",
       "      <td>0</td>\n",
       "      <td>0</td>\n",
       "      <td>0</td>\n",
       "      <td>0</td>\n",
       "    </tr>\n",
       "  </tbody>\n",
       "</table>\n",
       "<p>5 rows × 785 columns</p>\n",
       "</div>"
      ]
     },
     "execution_count": 103,
     "metadata": {},
     "output_type": "execute_result"
    }
   ],
   "execution_count": 103
  },
  {
   "metadata": {
    "ExecuteTime": {
     "end_time": "2025-03-25T13:28:50.797468Z",
     "start_time": "2025-03-25T13:28:50.277586Z"
    }
   },
   "cell_type": "code",
   "source": [
    "data = np.array(data)\n",
    "m,n = data.shape\n",
    "np.random.shuffle(data)"
   ],
   "id": "39b8024d2a99d039",
   "outputs": [],
   "execution_count": 104
  },
  {
   "metadata": {
    "ExecuteTime": {
     "end_time": "2025-03-25T13:28:50.917213Z",
     "start_time": "2025-03-25T13:28:50.913993Z"
    }
   },
   "cell_type": "code",
   "source": [
    "data_test = data[0:1000].T\n",
    "X_test = data_test[1:n]\n",
    "Y_test = data_test[0]\n",
    "X_test = X_test / 255."
   ],
   "id": "c67bef75779cca15",
   "outputs": [],
   "execution_count": 105
  },
  {
   "metadata": {
    "ExecuteTime": {
     "end_time": "2025-03-25T13:28:51.028470Z",
     "start_time": "2025-03-25T13:28:50.920290Z"
    }
   },
   "cell_type": "code",
   "source": [
    "data_train = data[1000:m].T\n",
    "X_train = data_train[1:n]\n",
    "Y_train = data_train[0]\n",
    "X_train = X_train / 255."
   ],
   "id": "63dbaf13438c51db",
   "outputs": [],
   "execution_count": 106
  },
  {
   "metadata": {
    "ExecuteTime": {
     "end_time": "2025-03-25T13:28:51.250067Z",
     "start_time": "2025-03-25T13:28:51.247577Z"
    }
   },
   "cell_type": "code",
   "source": [
    "def init_params():\n",
    "    W1 = np.random.rand(10, 784) - 0.5\n",
    "    b1 = np.random.rand(10, 1)- 0.5\n",
    "    W2 = np.random.rand(10, 10)- 0.5\n",
    "    b2 = np.random.rand(10, 1)- 0.5\n",
    "    return W1, b1, W2, b2"
   ],
   "id": "77c9133e6259ab27",
   "outputs": [],
   "execution_count": 107
  },
  {
   "metadata": {
    "ExecuteTime": {
     "end_time": "2025-03-25T13:28:51.330244Z",
     "start_time": "2025-03-25T13:28:51.327925Z"
    }
   },
   "cell_type": "code",
   "source": [
    "def ReLU(Z):\n",
    "    return np.maximum(0, Z)"
   ],
   "id": "e9da3debecb2fc53",
   "outputs": [],
   "execution_count": 108
  },
  {
   "metadata": {
    "ExecuteTime": {
     "end_time": "2025-03-25T13:28:51.408872Z",
     "start_time": "2025-03-25T13:28:51.406521Z"
    }
   },
   "cell_type": "code",
   "source": [
    "def softmax(Z):\n",
    "    A = np.exp(Z) / sum(np.exp(Z))\n",
    "    return A"
   ],
   "id": "467a18b5fbad1c8a",
   "outputs": [],
   "execution_count": 109
  },
  {
   "metadata": {
    "ExecuteTime": {
     "end_time": "2025-03-25T13:28:51.465277Z",
     "start_time": "2025-03-25T13:28:51.462687Z"
    }
   },
   "cell_type": "code",
   "source": [
    "def one_hot(Y):\n",
    "    one_hot_Y = np.zeros((Y.size, Y.max() + 1))\n",
    "    one_hot_Y[np.arange(Y.size), Y] = 1\n",
    "    one_hot_Y = one_hot_Y.T\n",
    "    return one_hot_Y"
   ],
   "id": "1495e6c137814888",
   "outputs": [],
   "execution_count": 110
  },
  {
   "metadata": {
    "ExecuteTime": {
     "end_time": "2025-03-25T13:28:51.519461Z",
     "start_time": "2025-03-25T13:28:51.516830Z"
    }
   },
   "cell_type": "code",
   "source": [
    "def forward_propagation(W1, b1, W2, b2, X):\n",
    "    Z1 = W1.dot(X) + b1\n",
    "    A1 = ReLU(Z1)\n",
    "    Z2 = W2.dot(A1) + b2\n",
    "    A2 = softmax(Z2)\n",
    "    return Z1, A1, Z2, A2"
   ],
   "id": "69d186bd65bbb16a",
   "outputs": [],
   "execution_count": 111
  },
  {
   "metadata": {
    "ExecuteTime": {
     "end_time": "2025-03-25T13:28:51.565680Z",
     "start_time": "2025-03-25T13:28:51.563383Z"
    }
   },
   "cell_type": "code",
   "source": [
    "def deriv_ReLU(Z):\n",
    "    return Z > 0"
   ],
   "id": "38fea63cbc945041",
   "outputs": [],
   "execution_count": 112
  },
  {
   "metadata": {
    "ExecuteTime": {
     "end_time": "2025-03-25T13:28:51.612230Z",
     "start_time": "2025-03-25T13:28:51.609198Z"
    }
   },
   "cell_type": "code",
   "source": [
    "def back_propagation(Z1, A1, Z2, A2, W1, W2, X, Y):\n",
    "    one_hot_Y = one_hot(Y)\n",
    "    dZ2 = A2 - one_hot_Y\n",
    "    dW2 = 1 / m * dZ2.dot(A1.T)\n",
    "    db2 = 1 / m * np.sum(dZ2)\n",
    "    dZ1 = W2.T.dot(dZ2) * deriv_ReLU(Z1)\n",
    "    dW1 = 1 / m * dZ1.dot(X.T)\n",
    "    db1 = 1 / m * np.sum(dZ1)\n",
    "    return dW1, db1, dW2, db2"
   ],
   "id": "149213df654e9af3",
   "outputs": [],
   "execution_count": 113
  },
  {
   "metadata": {
    "ExecuteTime": {
     "end_time": "2025-03-25T13:28:51.664946Z",
     "start_time": "2025-03-25T13:28:51.658380Z"
    }
   },
   "cell_type": "code",
   "source": [
    "def update_parameters(W1, b1, W2, b2, dW1, db1, dW2, db2, alpha):\n",
    "    W1 = W1 - alpha * dW1\n",
    "    b1 = b1 - alpha * db1\n",
    "    W2 = W2 - alpha * dW2\n",
    "    b2 = b2 - alpha * db2\n",
    "    return W1, b1, W2, b2"
   ],
   "id": "24848fd3e470492d",
   "outputs": [],
   "execution_count": 114
  },
  {
   "metadata": {
    "ExecuteTime": {
     "end_time": "2025-03-25T13:28:51.719140Z",
     "start_time": "2025-03-25T13:28:51.713067Z"
    }
   },
   "cell_type": "code",
   "source": [
    "def get_predictions(A2):\n",
    "    return np.argmax(A2, 0)"
   ],
   "id": "e6a4219fcfe855b0",
   "outputs": [],
   "execution_count": 115
  },
  {
   "metadata": {
    "ExecuteTime": {
     "end_time": "2025-03-25T13:28:51.770072Z",
     "start_time": "2025-03-25T13:28:51.764685Z"
    }
   },
   "cell_type": "code",
   "source": [
    "def get_accuracy(predictions, Y):\n",
    "    # print(predictions, Y)\n",
    "    return np.sum(predictions == Y) / Y.size"
   ],
   "id": "3196dac30f847f29",
   "outputs": [],
   "execution_count": 116
  },
  {
   "metadata": {
    "ExecuteTime": {
     "end_time": "2025-03-25T13:28:51.825905Z",
     "start_time": "2025-03-25T13:28:51.816818Z"
    }
   },
   "cell_type": "code",
   "source": [
    "def gradient_descent(X, Y, alpha, iterations):\n",
    "    W1, b1, W2, b2 = init_params()\n",
    "    for i in range(iterations):\n",
    "        Z1, A1, Z2, A2 = forward_propagation(W1, b1, W2, b2, X)\n",
    "        dW1, db1, dW2, db2 = back_propagation(Z1, A1, Z2, A2, W1, W2, X, Y)\n",
    "        W1, b1, W2, b2 = update_parameters(W1, b1, W2, b2, dW1, db1, dW2, db2, alpha)\n",
    "        if i % 100 == 0:\n",
    "            print(\"Iteration: \", i)\n",
    "            predictions = get_predictions(A2)\n",
    "            print(get_accuracy(predictions, Y))\n",
    "    return W1, b1, W2, b2"
   ],
   "id": "720abe2983be2182",
   "outputs": [],
   "execution_count": 117
  },
  {
   "metadata": {
    "ExecuteTime": {
     "end_time": "2025-03-25T13:33:28.705004Z",
     "start_time": "2025-03-25T13:28:51.873091Z"
    }
   },
   "cell_type": "code",
   "source": "W1, b1, W2, b2 = gradient_descent(X_train, Y_train, 0.1, 5000)",
   "id": "d6431c3e6e94ce7",
   "outputs": [
    {
     "name": "stdout",
     "output_type": "stream",
     "text": [
      "Iteration:  0\n",
      "0.09819512195121952\n",
      "Iteration:  100\n",
      "0.6755609756097561\n",
      "Iteration:  200\n",
      "0.7825121951219512\n",
      "Iteration:  300\n",
      "0.8201951219512195\n",
      "Iteration:  400\n",
      "0.8394146341463414\n",
      "Iteration:  500\n",
      "0.8506585365853658\n",
      "Iteration:  600\n",
      "0.8583658536585366\n",
      "Iteration:  700\n",
      "0.8641951219512195\n",
      "Iteration:  800\n",
      "0.8694146341463415\n",
      "Iteration:  900\n",
      "0.873390243902439\n",
      "Iteration:  1000\n",
      "0.8774878048780488\n",
      "Iteration:  1100\n",
      "0.8805365853658537\n",
      "Iteration:  1200\n",
      "0.8836341463414634\n",
      "Iteration:  1300\n",
      "0.8859756097560976\n",
      "Iteration:  1400\n",
      "0.8884634146341464\n",
      "Iteration:  1500\n",
      "0.8907560975609756\n",
      "Iteration:  1600\n",
      "0.8928780487804878\n",
      "Iteration:  1700\n",
      "0.8950731707317073\n",
      "Iteration:  1800\n",
      "0.8967804878048781\n",
      "Iteration:  1900\n",
      "0.898390243902439\n",
      "Iteration:  2000\n",
      "0.9001219512195122\n",
      "Iteration:  2100\n",
      "0.9015609756097561\n",
      "Iteration:  2200\n",
      "0.9025609756097561\n",
      "Iteration:  2300\n",
      "0.903609756097561\n",
      "Iteration:  2400\n",
      "0.904609756097561\n",
      "Iteration:  2500\n",
      "0.9059512195121951\n",
      "Iteration:  2600\n",
      "0.9069756097560976\n",
      "Iteration:  2700\n",
      "0.9076585365853659\n",
      "Iteration:  2800\n",
      "0.9087317073170732\n",
      "Iteration:  2900\n",
      "0.9096829268292683\n",
      "Iteration:  3000\n",
      "0.9105121951219513\n",
      "Iteration:  3100\n",
      "0.9114878048780488\n",
      "Iteration:  3200\n",
      "0.912609756097561\n",
      "Iteration:  3300\n",
      "0.9133902439024391\n",
      "Iteration:  3400\n",
      "0.914219512195122\n",
      "Iteration:  3500\n",
      "0.9151219512195122\n",
      "Iteration:  3600\n",
      "0.9160243902439025\n",
      "Iteration:  3700\n",
      "0.9166585365853659\n",
      "Iteration:  3800\n",
      "0.9178048780487805\n",
      "Iteration:  3900\n",
      "0.9184634146341464\n",
      "Iteration:  4000\n",
      "0.918829268292683\n",
      "Iteration:  4100\n",
      "0.9196341463414635\n",
      "Iteration:  4200\n",
      "0.9200731707317074\n",
      "Iteration:  4300\n",
      "0.9206829268292683\n",
      "Iteration:  4400\n",
      "0.9212682926829269\n",
      "Iteration:  4500\n",
      "0.9219024390243903\n",
      "Iteration:  4600\n",
      "0.9223170731707317\n",
      "Iteration:  4700\n",
      "0.9229512195121952\n",
      "Iteration:  4800\n",
      "0.9231463414634147\n",
      "Iteration:  4900\n",
      "0.923609756097561\n"
     ]
    }
   ],
   "execution_count": 118
  },
  {
   "metadata": {
    "ExecuteTime": {
     "end_time": "2025-03-25T13:33:28.756402Z",
     "start_time": "2025-03-25T13:33:28.743575Z"
    }
   },
   "cell_type": "code",
   "source": [
    "def make_predictions(X, W1, b1, W2, b2):\n",
    "    _, _, _, A2 = forward_propagation(W1, b1, W2, b2, X)\n",
    "    predictions = get_predictions(A2)\n",
    "    return predictions"
   ],
   "id": "742578b00f250767",
   "outputs": [],
   "execution_count": 119
  },
  {
   "metadata": {
    "ExecuteTime": {
     "end_time": "2025-03-25T13:33:28.809873Z",
     "start_time": "2025-03-25T13:33:28.806796Z"
    }
   },
   "cell_type": "code",
   "source": [
    "def test_prediction(index, W1, b1, W2, b2):\n",
    "    current_image = X_train[:, index, None]\n",
    "    prediction = make_predictions(X_train[:, index, None], W1, b1, W2, b2)\n",
    "    label = Y_train[index]\n",
    "    print(\"Prediction: \", prediction)\n",
    "    print(\"Label: \", label)\n",
    "\n",
    "    current_image = current_image.reshape((28, 28)) * 255\n",
    "    plt.gray()\n",
    "    plt.imshow(current_image, interpolation='nearest')\n",
    "    plt.show()"
   ],
   "id": "61d5bf124f0f24ba",
   "outputs": [],
   "execution_count": 120
  },
  {
   "metadata": {
    "ExecuteTime": {
     "end_time": "2025-03-25T13:33:28.870821Z",
     "start_time": "2025-03-25T13:33:28.852782Z"
    }
   },
   "cell_type": "code",
   "source": [
    "predictions = make_predictions(X_test, W1, b1, W2, b2)\n",
    "accuracy = get_accuracy(predictions, Y_test)\n",
    "print(\"Accuracy: \", accuracy)"
   ],
   "id": "da263b1ac5d7693b",
   "outputs": [
    {
     "name": "stdout",
     "output_type": "stream",
     "text": [
      "Accuracy:  0.91\n"
     ]
    }
   ],
   "execution_count": 121
  },
  {
   "metadata": {
    "ExecuteTime": {
     "end_time": "2025-03-25T13:33:28.955324Z",
     "start_time": "2025-03-25T13:33:28.950235Z"
    }
   },
   "cell_type": "code",
   "source": "",
   "id": "ddcd500cde0c6f5a",
   "outputs": [],
   "execution_count": null
  }
 ],
 "metadata": {
  "kernelspec": {
   "display_name": "Python 3",
   "language": "python",
   "name": "python3"
  },
  "language_info": {
   "codemirror_mode": {
    "name": "ipython",
    "version": 2
   },
   "file_extension": ".py",
   "mimetype": "text/x-python",
   "name": "python",
   "nbconvert_exporter": "python",
   "pygments_lexer": "ipython2",
   "version": "2.7.6"
  }
 },
 "nbformat": 4,
 "nbformat_minor": 5
}
